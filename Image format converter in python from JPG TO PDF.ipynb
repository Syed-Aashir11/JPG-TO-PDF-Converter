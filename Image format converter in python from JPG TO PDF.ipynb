{
 "cells": [
  {
   "cell_type": "code",
   "execution_count": 6,
   "id": "40c4ceb7",
   "metadata": {},
   "outputs": [],
   "source": [
    "import tkinter as tk\n",
    "from tkinter import filedialog\n",
    "from PIL import Image\n",
    "\n",
    "root = tk.Tk()\n",
    "canvas1 = tk.Canvas(root, width=300, height=250, bg='azure3', relief='raised')\n",
    "canvas1.pack()\n",
    "\n",
    "label1 = tk.Label(root, text=\"Image Converter App\", bg='azure3')\n",
    "label1.config(font=('ariel', 20))\n",
    "canvas1.create_window(150, 60, window=label1)\n",
    "\n",
    "def getPdf():\n",
    "    global im1\n",
    "    import_file_path = filedialog.askopenfilename()\n",
    "    im1 = Image.open(import_file_path)\n",
    "\n",
    "browse_png = tk.Button(text=\"Select A JPG File\", command=getPNG, bg=\"gray\", fg='black', font=('ariel', 12, 'bold'))\n",
    "canvas1.create_window(150, 130, window=browse_png)\n",
    "\n",
    "def convert():\n",
    "    global im1\n",
    "    export_file_path = filedialog.asksaveasfilename(defaultextension='.pdf')\n",
    "    im1.save(export_file_path)\n",
    "\n",
    "saveasbutton = tk.Button(text=\"JPG TO PDF\", command=convert, bg='gray', fg='black', font=('ariel', 12, 'bold'))\n",
    "canvas1.create_window(150, 180, window=saveasbutton)\n",
    "root.mainloop()"
   ]
  },
  {
   "cell_type": "code",
   "execution_count": null,
   "id": "65a6c929",
   "metadata": {},
   "outputs": [],
   "source": []
  }
 ],
 "metadata": {
  "kernelspec": {
   "display_name": "Python 3 (ipykernel)",
   "language": "python",
   "name": "python3"
  },
  "language_info": {
   "codemirror_mode": {
    "name": "ipython",
    "version": 3
   },
   "file_extension": ".py",
   "mimetype": "text/x-python",
   "name": "python",
   "nbconvert_exporter": "python",
   "pygments_lexer": "ipython3",
   "version": "3.8.9"
  }
 },
 "nbformat": 4,
 "nbformat_minor": 5
}
